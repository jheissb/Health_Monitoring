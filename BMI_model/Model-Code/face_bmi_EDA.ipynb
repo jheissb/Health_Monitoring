{
 "cells": [
  {
   "cell_type": "markdown",
   "metadata": {},
   "source": [
    "### Exploratory Data Analysis"
   ]
  },
  {
   "cell_type": "markdown",
   "metadata": {},
   "source": [
    "- Get some statistics (mean, max, min, std, etc)\n",
    "- Pixel values distribution (high, medium, low), for each channe (R,G,B)\n",
    "- Size of the images (100x100) or (300x300) --> Upsampling, downsampling\n",
    "- Image selection based on face identification.\n",
    "- Explore a bit deeper on dblip library and method for face identification"
   ]
  },
  {
   "cell_type": "code",
   "execution_count": 1,
   "metadata": {},
   "outputs": [],
   "source": [
    "import pandas as pd\n",
    "from matplotlib import image"
   ]
  },
  {
   "cell_type": "code",
   "execution_count": 3,
   "metadata": {},
   "outputs": [
    {
     "data": {
      "text/html": [
       "<div>\n",
       "<style scoped>\n",
       "    .dataframe tbody tr th:only-of-type {\n",
       "        vertical-align: middle;\n",
       "    }\n",
       "\n",
       "    .dataframe tbody tr th {\n",
       "        vertical-align: top;\n",
       "    }\n",
       "\n",
       "    .dataframe thead th {\n",
       "        text-align: right;\n",
       "    }\n",
       "</style>\n",
       "<table border=\"1\" class=\"dataframe\">\n",
       "  <thead>\n",
       "    <tr style=\"text-align: right;\">\n",
       "      <th></th>\n",
       "      <th>nameid</th>\n",
       "      <th>name</th>\n",
       "      <th>book_date</th>\n",
       "      <th>city</th>\n",
       "      <th>holding_location</th>\n",
       "      <th>age</th>\n",
       "      <th>height</th>\n",
       "      <th>weight</th>\n",
       "      <th>race</th>\n",
       "      <th>sex</th>\n",
       "      <th>eyes</th>\n",
       "      <th>hair</th>\n",
       "      <th>bookid</th>\n",
       "      <th>feet</th>\n",
       "      <th>inches</th>\n",
       "      <th>bmi</th>\n",
       "      <th>gender</th>\n",
       "      <th>index</th>\n",
       "    </tr>\n",
       "  </thead>\n",
       "  <tbody>\n",
       "    <tr>\n",
       "      <th>0</th>\n",
       "      <td>699804</td>\n",
       "      <td>MALIK TYRONE MANDUJANO</td>\n",
       "      <td>4/1/2018 3:24:44 AM</td>\n",
       "      <td>DES MOINES, IA</td>\n",
       "      <td>PCJ</td>\n",
       "      <td>21</td>\n",
       "      <td>1.6002</td>\n",
       "      <td>58.96696</td>\n",
       "      <td>Black</td>\n",
       "      <td>Male</td>\n",
       "      <td>Brown</td>\n",
       "      <td>Black</td>\n",
       "      <td>270020</td>\n",
       "      <td>5.0</td>\n",
       "      <td>3.0</td>\n",
       "      <td>23.028211</td>\n",
       "      <td>1</td>\n",
       "      <td>270020.jpg</td>\n",
       "    </tr>\n",
       "    <tr>\n",
       "      <th>1</th>\n",
       "      <td>238047</td>\n",
       "      <td>DUSTIN GLEN BLACK</td>\n",
       "      <td>8/5/2018 9:26:54 PM</td>\n",
       "      <td>DES MOINES, IA</td>\n",
       "      <td>PCJ</td>\n",
       "      <td>29</td>\n",
       "      <td>1.8796</td>\n",
       "      <td>104.32616</td>\n",
       "      <td>White</td>\n",
       "      <td>Male</td>\n",
       "      <td>Blue</td>\n",
       "      <td>Blonde</td>\n",
       "      <td>277774</td>\n",
       "      <td>6.0</td>\n",
       "      <td>2.0</td>\n",
       "      <td>29.529925</td>\n",
       "      <td>1</td>\n",
       "      <td>277774.jpg</td>\n",
       "    </tr>\n",
       "    <tr>\n",
       "      <th>2</th>\n",
       "      <td>680272</td>\n",
       "      <td>JAYDEN SIDNEY STRAIGHT</td>\n",
       "      <td>8/31/2018 12:12:14 AM</td>\n",
       "      <td>DES MOINES, IA</td>\n",
       "      <td>PCJ</td>\n",
       "      <td>18</td>\n",
       "      <td>1.7272</td>\n",
       "      <td>56.69900</td>\n",
       "      <td>White</td>\n",
       "      <td>Male</td>\n",
       "      <td>Brown</td>\n",
       "      <td>Black</td>\n",
       "      <td>279426</td>\n",
       "      <td>5.0</td>\n",
       "      <td>8.0</td>\n",
       "      <td>19.005974</td>\n",
       "      <td>1</td>\n",
       "      <td>279426.jpg</td>\n",
       "    </tr>\n",
       "    <tr>\n",
       "      <th>3</th>\n",
       "      <td>995244</td>\n",
       "      <td>MASON DAVIS VANG</td>\n",
       "      <td>9/6/2018 4:00:23 PM</td>\n",
       "      <td>ANKENY, IA</td>\n",
       "      <td>PCJ</td>\n",
       "      <td>23</td>\n",
       "      <td>1.7272</td>\n",
       "      <td>86.18248</td>\n",
       "      <td>Asian</td>\n",
       "      <td>Male</td>\n",
       "      <td>Brown</td>\n",
       "      <td>Black</td>\n",
       "      <td>279799</td>\n",
       "      <td>5.0</td>\n",
       "      <td>8.0</td>\n",
       "      <td>28.889081</td>\n",
       "      <td>1</td>\n",
       "      <td>279799.jpg</td>\n",
       "    </tr>\n",
       "    <tr>\n",
       "      <th>4</th>\n",
       "      <td>972517</td>\n",
       "      <td>DAMIR JIRE YOUNG</td>\n",
       "      <td>9/30/2018 7:31:03 PM</td>\n",
       "      <td>ANKENY, IA</td>\n",
       "      <td>PCJ</td>\n",
       "      <td>19</td>\n",
       "      <td>1.8542</td>\n",
       "      <td>72.57472</td>\n",
       "      <td>Black</td>\n",
       "      <td>Male</td>\n",
       "      <td>Brown</td>\n",
       "      <td>Black</td>\n",
       "      <td>281182</td>\n",
       "      <td>6.0</td>\n",
       "      <td>1.0</td>\n",
       "      <td>21.109221</td>\n",
       "      <td>1</td>\n",
       "      <td>281182.jpg</td>\n",
       "    </tr>\n",
       "  </tbody>\n",
       "</table>\n",
       "</div>"
      ],
      "text/plain": [
       "   nameid                    name              book_date            city  \\\n",
       "0  699804  MALIK TYRONE MANDUJANO    4/1/2018 3:24:44 AM  DES MOINES, IA   \n",
       "1  238047       DUSTIN GLEN BLACK    8/5/2018 9:26:54 PM  DES MOINES, IA   \n",
       "2  680272  JAYDEN SIDNEY STRAIGHT  8/31/2018 12:12:14 AM  DES MOINES, IA   \n",
       "3  995244        MASON DAVIS VANG    9/6/2018 4:00:23 PM      ANKENY, IA   \n",
       "4  972517        DAMIR JIRE YOUNG   9/30/2018 7:31:03 PM      ANKENY, IA   \n",
       "\n",
       "  holding_location  age  height     weight   race   sex   eyes    hair  \\\n",
       "0              PCJ   21  1.6002   58.96696  Black  Male  Brown   Black   \n",
       "1              PCJ   29  1.8796  104.32616  White  Male   Blue  Blonde   \n",
       "2              PCJ   18  1.7272   56.69900  White  Male  Brown   Black   \n",
       "3              PCJ   23  1.7272   86.18248  Asian  Male  Brown   Black   \n",
       "4              PCJ   19  1.8542   72.57472  Black  Male  Brown   Black   \n",
       "\n",
       "   bookid  feet  inches        bmi  gender       index  \n",
       "0  270020   5.0     3.0  23.028211       1  270020.jpg  \n",
       "1  277774   6.0     2.0  29.529925       1  277774.jpg  \n",
       "2  279426   5.0     8.0  19.005974       1  279426.jpg  \n",
       "3  279799   5.0     8.0  28.889081       1  279799.jpg  \n",
       "4  281182   6.0     1.0  21.109221       1  281182.jpg  "
      ]
     },
     "execution_count": 3,
     "metadata": {},
     "output_type": "execute_result"
    }
   ],
   "source": [
    "dataset2=pd.read_csv('../data/train.csv')\n",
    "dataset2.head()"
   ]
  },
  {
   "cell_type": "code",
   "execution_count": 4,
   "metadata": {},
   "outputs": [],
   "source": [
    "all_paths=dataset2['index'].tolist()\n",
    "all_bmi=dataset2['bmi']"
   ]
  },
  {
   "cell_type": "code",
   "execution_count": 6,
   "metadata": {},
   "outputs": [],
   "source": [
    "all_face_raw=[]\n",
    "all_bmi=[]\n",
    "\n",
    "for ii,path in enumerate(all_paths[:]):\n",
    "    image_path='../data/face/'+str(path)\n",
    "    data = image.imread(image_path)\n",
    "    all_face_raw.append(data)\n",
    "    all_bmi.append(dataset2['bmi'].loc[ii])\n",
    "    "
   ]
  },
  {
   "cell_type": "code",
   "execution_count": 7,
   "metadata": {},
   "outputs": [],
   "source": [
    "all_info=[]\n",
    "for ii,image in enumerate(all_face_raw[:]):\n",
    "    output_dict={}\n",
    "    output_dict['image']=ii\n",
    "    output_dict['nameid']=dataset2['nameid'].loc[ii]\n",
    "    output_dict['name']=dataset2['name'].loc[ii]\n",
    "    output_dict['path']=all_paths[ii]\n",
    "    \n",
    "    output_dict['mean']=image.mean()\n",
    "    output_dict['max']=image.max()\n",
    "    output_dict['min']=image.min()\n",
    "    output_dict['std']=image.std()\n",
    "    output_dict['mean_R']=image[:,:,0].mean()\n",
    "    output_dict['mean_G']=image[:,:,1].mean()\n",
    "    output_dict['mean_B']=image[:,:,2].mean()\n",
    "    output_dict['std_R']=image[:,:,0].std()\n",
    "    output_dict['std_G']=image[:,:,1].std()\n",
    "    output_dict['std_B']=image[:,:,2].std()\n",
    "    all_info.append(output_dict)"
   ]
  },
  {
   "cell_type": "code",
   "execution_count": 8,
   "metadata": {},
   "outputs": [],
   "source": [
    "# import numpy as np\n",
    "# all_face_raw_np=np.array(all_face_raw)\n",
    "# import matplotlib.pyplot as plt\n",
    "# plt.hist(image.reshape(-1),bins=20)"
   ]
  },
  {
   "cell_type": "code",
   "execution_count": 9,
   "metadata": {},
   "outputs": [
    {
     "data": {
      "text/html": [
       "<div>\n",
       "<style scoped>\n",
       "    .dataframe tbody tr th:only-of-type {\n",
       "        vertical-align: middle;\n",
       "    }\n",
       "\n",
       "    .dataframe tbody tr th {\n",
       "        vertical-align: top;\n",
       "    }\n",
       "\n",
       "    .dataframe thead th {\n",
       "        text-align: right;\n",
       "    }\n",
       "</style>\n",
       "<table border=\"1\" class=\"dataframe\">\n",
       "  <thead>\n",
       "    <tr style=\"text-align: right;\">\n",
       "      <th></th>\n",
       "      <th>image</th>\n",
       "      <th>nameid</th>\n",
       "      <th>name</th>\n",
       "      <th>path</th>\n",
       "      <th>mean</th>\n",
       "      <th>max</th>\n",
       "      <th>min</th>\n",
       "      <th>std</th>\n",
       "      <th>mean_R</th>\n",
       "      <th>mean_G</th>\n",
       "      <th>mean_B</th>\n",
       "      <th>std_R</th>\n",
       "      <th>std_G</th>\n",
       "      <th>std_B</th>\n",
       "    </tr>\n",
       "  </thead>\n",
       "  <tbody>\n",
       "    <tr>\n",
       "      <th>0</th>\n",
       "      <td>0</td>\n",
       "      <td>699804</td>\n",
       "      <td>MALIK TYRONE MANDUJANO</td>\n",
       "      <td>270020.jpg</td>\n",
       "      <td>154.355456</td>\n",
       "      <td>-7</td>\n",
       "      <td>4</td>\n",
       "      <td>51.336341</td>\n",
       "      <td>166.707506</td>\n",
       "      <td>160.135761</td>\n",
       "      <td>136.223102</td>\n",
       "      <td>49.576296</td>\n",
       "      <td>50.254246</td>\n",
       "      <td>49.073354</td>\n",
       "    </tr>\n",
       "    <tr>\n",
       "      <th>1</th>\n",
       "      <td>1</td>\n",
       "      <td>238047</td>\n",
       "      <td>DUSTIN GLEN BLACK</td>\n",
       "      <td>277774.jpg</td>\n",
       "      <td>113.459946</td>\n",
       "      <td>-13</td>\n",
       "      <td>5</td>\n",
       "      <td>34.170016</td>\n",
       "      <td>122.425909</td>\n",
       "      <td>120.178490</td>\n",
       "      <td>97.775440</td>\n",
       "      <td>39.196696</td>\n",
       "      <td>29.522518</td>\n",
       "      <td>26.893844</td>\n",
       "    </tr>\n",
       "    <tr>\n",
       "      <th>2</th>\n",
       "      <td>2</td>\n",
       "      <td>680272</td>\n",
       "      <td>JAYDEN SIDNEY STRAIGHT</td>\n",
       "      <td>279426.jpg</td>\n",
       "      <td>123.567271</td>\n",
       "      <td>-3</td>\n",
       "      <td>6</td>\n",
       "      <td>45.734607</td>\n",
       "      <td>126.516024</td>\n",
       "      <td>131.179980</td>\n",
       "      <td>113.005810</td>\n",
       "      <td>46.878477</td>\n",
       "      <td>45.414446</td>\n",
       "      <td>42.856813</td>\n",
       "    </tr>\n",
       "    <tr>\n",
       "      <th>3</th>\n",
       "      <td>3</td>\n",
       "      <td>995244</td>\n",
       "      <td>MASON DAVIS VANG</td>\n",
       "      <td>279799.jpg</td>\n",
       "      <td>122.476046</td>\n",
       "      <td>-9</td>\n",
       "      <td>0</td>\n",
       "      <td>41.285252</td>\n",
       "      <td>131.801528</td>\n",
       "      <td>132.750394</td>\n",
       "      <td>102.876215</td>\n",
       "      <td>39.810389</td>\n",
       "      <td>42.544848</td>\n",
       "      <td>33.790600</td>\n",
       "    </tr>\n",
       "    <tr>\n",
       "      <th>4</th>\n",
       "      <td>4</td>\n",
       "      <td>972517</td>\n",
       "      <td>DAMIR JIRE YOUNG</td>\n",
       "      <td>281182.jpg</td>\n",
       "      <td>117.853794</td>\n",
       "      <td>-7</td>\n",
       "      <td>6</td>\n",
       "      <td>49.268493</td>\n",
       "      <td>136.889117</td>\n",
       "      <td>118.064771</td>\n",
       "      <td>98.607494</td>\n",
       "      <td>51.674477</td>\n",
       "      <td>44.906898</td>\n",
       "      <td>43.156273</td>\n",
       "    </tr>\n",
       "    <tr>\n",
       "      <th>...</th>\n",
       "      <td>...</td>\n",
       "      <td>...</td>\n",
       "      <td>...</td>\n",
       "      <td>...</td>\n",
       "      <td>...</td>\n",
       "      <td>...</td>\n",
       "      <td>...</td>\n",
       "      <td>...</td>\n",
       "      <td>...</td>\n",
       "      <td>...</td>\n",
       "      <td>...</td>\n",
       "      <td>...</td>\n",
       "      <td>...</td>\n",
       "      <td>...</td>\n",
       "    </tr>\n",
       "    <tr>\n",
       "      <th>1256</th>\n",
       "      <td>1256</td>\n",
       "      <td>556628</td>\n",
       "      <td>NICOLE LOUISE HARMON</td>\n",
       "      <td>304899.jpg</td>\n",
       "      <td>126.477295</td>\n",
       "      <td>-10</td>\n",
       "      <td>0</td>\n",
       "      <td>48.736135</td>\n",
       "      <td>143.807150</td>\n",
       "      <td>125.135949</td>\n",
       "      <td>110.488785</td>\n",
       "      <td>51.987767</td>\n",
       "      <td>45.193287</td>\n",
       "      <td>42.693279</td>\n",
       "    </tr>\n",
       "    <tr>\n",
       "      <th>1257</th>\n",
       "      <td>1257</td>\n",
       "      <td>64296</td>\n",
       "      <td>AMANDA SUE CRABB</td>\n",
       "      <td>304901.jpg</td>\n",
       "      <td>94.647281</td>\n",
       "      <td>-11</td>\n",
       "      <td>5</td>\n",
       "      <td>41.997462</td>\n",
       "      <td>101.832115</td>\n",
       "      <td>94.494797</td>\n",
       "      <td>87.614931</td>\n",
       "      <td>42.597259</td>\n",
       "      <td>40.775052</td>\n",
       "      <td>41.389976</td>\n",
       "    </tr>\n",
       "    <tr>\n",
       "      <th>1258</th>\n",
       "      <td>1258</td>\n",
       "      <td>470798</td>\n",
       "      <td>THOMAS COLIN LUECK</td>\n",
       "      <td>304910.jpg</td>\n",
       "      <td>142.286080</td>\n",
       "      <td>-7</td>\n",
       "      <td>8</td>\n",
       "      <td>42.051316</td>\n",
       "      <td>157.892257</td>\n",
       "      <td>142.349181</td>\n",
       "      <td>126.616803</td>\n",
       "      <td>43.924690</td>\n",
       "      <td>38.792979</td>\n",
       "      <td>37.169650</td>\n",
       "    </tr>\n",
       "    <tr>\n",
       "      <th>1259</th>\n",
       "      <td>1259</td>\n",
       "      <td>1056459</td>\n",
       "      <td>MARCIA LYNN SECREST</td>\n",
       "      <td>304913.jpg</td>\n",
       "      <td>121.051231</td>\n",
       "      <td>-12</td>\n",
       "      <td>9</td>\n",
       "      <td>44.744025</td>\n",
       "      <td>134.389447</td>\n",
       "      <td>121.479528</td>\n",
       "      <td>107.284716</td>\n",
       "      <td>47.309156</td>\n",
       "      <td>41.533449</td>\n",
       "      <td>40.930322</td>\n",
       "    </tr>\n",
       "    <tr>\n",
       "      <th>1260</th>\n",
       "      <td>1260</td>\n",
       "      <td>235985</td>\n",
       "      <td>KIMBERLY KAY TADAYON</td>\n",
       "      <td>304914.jpg</td>\n",
       "      <td>101.963764</td>\n",
       "      <td>-4</td>\n",
       "      <td>0</td>\n",
       "      <td>49.137768</td>\n",
       "      <td>110.496639</td>\n",
       "      <td>104.063389</td>\n",
       "      <td>91.331264</td>\n",
       "      <td>55.117891</td>\n",
       "      <td>47.484189</td>\n",
       "      <td>41.959053</td>\n",
       "    </tr>\n",
       "  </tbody>\n",
       "</table>\n",
       "<p>1261 rows × 14 columns</p>\n",
       "</div>"
      ],
      "text/plain": [
       "      image   nameid                    name        path        mean  max  \\\n",
       "0         0   699804  MALIK TYRONE MANDUJANO  270020.jpg  154.355456   -7   \n",
       "1         1   238047       DUSTIN GLEN BLACK  277774.jpg  113.459946  -13   \n",
       "2         2   680272  JAYDEN SIDNEY STRAIGHT  279426.jpg  123.567271   -3   \n",
       "3         3   995244        MASON DAVIS VANG  279799.jpg  122.476046   -9   \n",
       "4         4   972517        DAMIR JIRE YOUNG  281182.jpg  117.853794   -7   \n",
       "...     ...      ...                     ...         ...         ...  ...   \n",
       "1256   1256   556628    NICOLE LOUISE HARMON  304899.jpg  126.477295  -10   \n",
       "1257   1257    64296        AMANDA SUE CRABB  304901.jpg   94.647281  -11   \n",
       "1258   1258   470798      THOMAS COLIN LUECK  304910.jpg  142.286080   -7   \n",
       "1259   1259  1056459     MARCIA LYNN SECREST  304913.jpg  121.051231  -12   \n",
       "1260   1260   235985    KIMBERLY KAY TADAYON  304914.jpg  101.963764   -4   \n",
       "\n",
       "      min        std      mean_R      mean_G      mean_B      std_R  \\\n",
       "0       4  51.336341  166.707506  160.135761  136.223102  49.576296   \n",
       "1       5  34.170016  122.425909  120.178490   97.775440  39.196696   \n",
       "2       6  45.734607  126.516024  131.179980  113.005810  46.878477   \n",
       "3       0  41.285252  131.801528  132.750394  102.876215  39.810389   \n",
       "4       6  49.268493  136.889117  118.064771   98.607494  51.674477   \n",
       "...   ...        ...         ...         ...         ...        ...   \n",
       "1256    0  48.736135  143.807150  125.135949  110.488785  51.987767   \n",
       "1257    5  41.997462  101.832115   94.494797   87.614931  42.597259   \n",
       "1258    8  42.051316  157.892257  142.349181  126.616803  43.924690   \n",
       "1259    9  44.744025  134.389447  121.479528  107.284716  47.309156   \n",
       "1260    0  49.137768  110.496639  104.063389   91.331264  55.117891   \n",
       "\n",
       "          std_G      std_B  \n",
       "0     50.254246  49.073354  \n",
       "1     29.522518  26.893844  \n",
       "2     45.414446  42.856813  \n",
       "3     42.544848  33.790600  \n",
       "4     44.906898  43.156273  \n",
       "...         ...        ...  \n",
       "1256  45.193287  42.693279  \n",
       "1257  40.775052  41.389976  \n",
       "1258  38.792979  37.169650  \n",
       "1259  41.533449  40.930322  \n",
       "1260  47.484189  41.959053  \n",
       "\n",
       "[1261 rows x 14 columns]"
      ]
     },
     "execution_count": 9,
     "metadata": {},
     "output_type": "execute_result"
    }
   ],
   "source": [
    "output_df=pd.DataFrame(all_info)\n",
    "output_df"
   ]
  },
  {
   "cell_type": "code",
   "execution_count": 10,
   "metadata": {},
   "outputs": [
    {
     "data": {
      "text/plain": [
       "<AxesSubplot:ylabel='Frequency'>"
      ]
     },
     "execution_count": 10,
     "metadata": {},
     "output_type": "execute_result"
    },
    {
     "data": {
      "image/png": "[encoded data removed]",
      "text/plain": [
       "<Figure size 432x288 with 1 Axes>"
      ]
     },
     "metadata": {
      "needs_background": "light"
     },
     "output_type": "display_data"
    }
   ],
   "source": [
    "output_df[['min','max','mean']].plot.hist(bins=20,alpha=0.5)"
   ]
  },
  {
   "cell_type": "code",
   "execution_count": 11,
   "metadata": {},
   "outputs": [
    {
     "data": {
      "text/plain": [
       "<AxesSubplot:ylabel='Frequency'>"
      ]
     },
     "execution_count": 11,
     "metadata": {},
     "output_type": "execute_result"
    },
    {
     "data": {
      "image/png": "[encoded data removed]",
      "text/plain": [
       "<Figure size 432x288 with 1 Axes>"
      ]
     },
     "metadata": {
      "needs_background": "light"
     },
     "output_type": "display_data"
    }
   ],
   "source": [
    "output_df[['max']].plot.hist(bins=20,alpha=0.5)"
   ]
  },
  {
   "cell_type": "code",
   "execution_count": 12,
   "metadata": {},
   "outputs": [
    {
     "data": {
      "text/plain": [
       "<AxesSubplot:ylabel='Frequency'>"
      ]
     },
     "execution_count": 12,
     "metadata": {},
     "output_type": "execute_result"
    },
    {
     "data": {
      "image/png": "[encoded data removed]",
      "text/plain": [
       "<Figure size 432x288 with 1 Axes>"
      ]
     },
     "metadata": {
      "needs_background": "light"
     },
     "output_type": "display_data"
    }
   ],
   "source": [
    "output_df[['min']].plot.hist(bins=20,alpha=0.5)"
   ]
  },
  {
   "cell_type": "code",
   "execution_count": 13,
   "metadata": {},
   "outputs": [
    {
     "data": {
      "text/plain": [
       "<AxesSubplot:ylabel='Frequency'>"
      ]
     },
     "execution_count": 13,
     "metadata": {},
     "output_type": "execute_result"
    },
    {
     "data": {
      "image/png": "[encoded data removed]",
      "text/plain": [
       "<Figure size 432x288 with 1 Axes>"
      ]
     },
     "metadata": {
      "needs_background": "light"
     },
     "output_type": "display_data"
    }
   ],
   "source": [
    "output_df[['mean']].plot.hist(bins=20,alpha=0.5)"
   ]
  },
  {
   "cell_type": "code",
   "execution_count": 14,
   "metadata": {},
   "outputs": [
    {
     "data": {
      "text/plain": [
       "<AxesSubplot:ylabel='Frequency'>"
      ]
     },
     "execution_count": 14,
     "metadata": {},
     "output_type": "execute_result"
    },
    {
     "data": {
      "image/png": "[encoded data removed]",
      "text/plain": [
       "<Figure size 432x288 with 1 Axes>"
      ]
     },
     "metadata": {
      "needs_background": "light"
     },
     "output_type": "display_data"
    }
   ],
   "source": [
    "output_df[['mean_R']].plot.hist(bins=20,alpha=0.5)"
   ]
  },
  {
   "cell_type": "code",
   "execution_count": 15,
   "metadata": {},
   "outputs": [
    {
     "data": {
      "text/plain": [
       "<AxesSubplot:ylabel='Frequency'>"
      ]
     },
     "execution_count": 15,
     "metadata": {},
     "output_type": "execute_result"
    },
    {
     "data": {
      "image/png": "[encoded data removed]",
      "text/plain": [
       "<Figure size 432x288 with 1 Axes>"
      ]
     },
     "metadata": {
      "needs_background": "light"
     },
     "output_type": "display_data"
    }
   ],
   "source": [
    "output_df[['mean_G']].plot.hist(bins=20,alpha=0.5)"
   ]
  },
  {
   "cell_type": "code",
   "execution_count": 16,
   "metadata": {},
   "outputs": [
    {
     "data": {
      "text/plain": [
       "<AxesSubplot:ylabel='Frequency'>"
      ]
     },
     "execution_count": 16,
     "metadata": {},
     "output_type": "execute_result"
    },
    {
     "data": {
      "image/png": "[encoded data removed]",
      "text/plain": [
       "<Figure size 432x288 with 1 Axes>"
      ]
     },
     "metadata": {
      "needs_background": "light"
     },
     "output_type": "display_data"
    }
   ],
   "source": [
    "output_df[['mean_B']].plot.hist(bins=20,alpha=0.5)"
   ]
  },
  {
   "cell_type": "code",
   "execution_count": 17,
   "metadata": {},
   "outputs": [
    {
     "data": {
      "text/plain": [
       "<AxesSubplot:ylabel='Frequency'>"
      ]
     },
     "execution_count": 17,
     "metadata": {},
     "output_type": "execute_result"
    },
    {
     "data": {
      "image/png": "[encoded data removed]",
      "text/plain": [
       "<Figure size 432x288 with 1 Axes>"
      ]
     },
     "metadata": {
      "needs_background": "light"
     },
     "output_type": "display_data"
    }
   ],
   "source": [
    "output_df[['mean_R','mean_G','mean_B']].plot.hist(bins=20,alpha=0.5)"
   ]
  },
  {
   "cell_type": "code",
   "execution_count": null,
   "metadata": {},
   "outputs": [],
   "source": []
  },
  {
   "cell_type": "code",
   "execution_count": 18,
   "metadata": {},
   "outputs": [
    {
     "data": {
      "text/html": [
       "<div>\n",
       "<style scoped>\n",
       "    .dataframe tbody tr th:only-of-type {\n",
       "        vertical-align: middle;\n",
       "    }\n",
       "\n",
       "    .dataframe tbody tr th {\n",
       "        vertical-align: top;\n",
       "    }\n",
       "\n",
       "    .dataframe thead th {\n",
       "        text-align: right;\n",
       "    }\n",
       "</style>\n",
       "<table border=\"1\" class=\"dataframe\">\n",
       "  <thead>\n",
       "    <tr style=\"text-align: right;\">\n",
       "      <th></th>\n",
       "      <th>nameid</th>\n",
       "      <th>name</th>\n",
       "      <th>book_date</th>\n",
       "      <th>city</th>\n",
       "      <th>holding_location</th>\n",
       "      <th>age</th>\n",
       "      <th>height</th>\n",
       "      <th>weight</th>\n",
       "      <th>race</th>\n",
       "      <th>sex</th>\n",
       "      <th>eyes</th>\n",
       "      <th>hair</th>\n",
       "      <th>bookid</th>\n",
       "      <th>feet</th>\n",
       "      <th>inches</th>\n",
       "      <th>bmi</th>\n",
       "      <th>gender</th>\n",
       "      <th>index</th>\n",
       "    </tr>\n",
       "  </thead>\n",
       "  <tbody>\n",
       "    <tr>\n",
       "      <th>0</th>\n",
       "      <td>699804</td>\n",
       "      <td>MALIK TYRONE MANDUJANO</td>\n",
       "      <td>4/1/2018 3:24:44 AM</td>\n",
       "      <td>DES MOINES, IA</td>\n",
       "      <td>PCJ</td>\n",
       "      <td>21</td>\n",
       "      <td>1.6002</td>\n",
       "      <td>58.96696</td>\n",
       "      <td>Black</td>\n",
       "      <td>Male</td>\n",
       "      <td>Brown</td>\n",
       "      <td>Black</td>\n",
       "      <td>270020</td>\n",
       "      <td>5.0</td>\n",
       "      <td>3.0</td>\n",
       "      <td>23.028211</td>\n",
       "      <td>1</td>\n",
       "      <td>270020.jpg</td>\n",
       "    </tr>\n",
       "    <tr>\n",
       "      <th>1</th>\n",
       "      <td>238047</td>\n",
       "      <td>DUSTIN GLEN BLACK</td>\n",
       "      <td>8/5/2018 9:26:54 PM</td>\n",
       "      <td>DES MOINES, IA</td>\n",
       "      <td>PCJ</td>\n",
       "      <td>29</td>\n",
       "      <td>1.8796</td>\n",
       "      <td>104.32616</td>\n",
       "      <td>White</td>\n",
       "      <td>Male</td>\n",
       "      <td>Blue</td>\n",
       "      <td>Blonde</td>\n",
       "      <td>277774</td>\n",
       "      <td>6.0</td>\n",
       "      <td>2.0</td>\n",
       "      <td>29.529925</td>\n",
       "      <td>1</td>\n",
       "      <td>277774.jpg</td>\n",
       "    </tr>\n",
       "    <tr>\n",
       "      <th>2</th>\n",
       "      <td>680272</td>\n",
       "      <td>JAYDEN SIDNEY STRAIGHT</td>\n",
       "      <td>8/31/2018 12:12:14 AM</td>\n",
       "      <td>DES MOINES, IA</td>\n",
       "      <td>PCJ</td>\n",
       "      <td>18</td>\n",
       "      <td>1.7272</td>\n",
       "      <td>56.69900</td>\n",
       "      <td>White</td>\n",
       "      <td>Male</td>\n",
       "      <td>Brown</td>\n",
       "      <td>Black</td>\n",
       "      <td>279426</td>\n",
       "      <td>5.0</td>\n",
       "      <td>8.0</td>\n",
       "      <td>19.005974</td>\n",
       "      <td>1</td>\n",
       "      <td>279426.jpg</td>\n",
       "    </tr>\n",
       "    <tr>\n",
       "      <th>3</th>\n",
       "      <td>995244</td>\n",
       "      <td>MASON DAVIS VANG</td>\n",
       "      <td>9/6/2018 4:00:23 PM</td>\n",
       "      <td>ANKENY, IA</td>\n",
       "      <td>PCJ</td>\n",
       "      <td>23</td>\n",
       "      <td>1.7272</td>\n",
       "      <td>86.18248</td>\n",
       "      <td>Asian</td>\n",
       "      <td>Male</td>\n",
       "      <td>Brown</td>\n",
       "      <td>Black</td>\n",
       "      <td>279799</td>\n",
       "      <td>5.0</td>\n",
       "      <td>8.0</td>\n",
       "      <td>28.889081</td>\n",
       "      <td>1</td>\n",
       "      <td>279799.jpg</td>\n",
       "    </tr>\n",
       "    <tr>\n",
       "      <th>4</th>\n",
       "      <td>972517</td>\n",
       "      <td>DAMIR JIRE YOUNG</td>\n",
       "      <td>9/30/2018 7:31:03 PM</td>\n",
       "      <td>ANKENY, IA</td>\n",
       "      <td>PCJ</td>\n",
       "      <td>19</td>\n",
       "      <td>1.8542</td>\n",
       "      <td>72.57472</td>\n",
       "      <td>Black</td>\n",
       "      <td>Male</td>\n",
       "      <td>Brown</td>\n",
       "      <td>Black</td>\n",
       "      <td>281182</td>\n",
       "      <td>6.0</td>\n",
       "      <td>1.0</td>\n",
       "      <td>21.109221</td>\n",
       "      <td>1</td>\n",
       "      <td>281182.jpg</td>\n",
       "    </tr>\n",
       "  </tbody>\n",
       "</table>\n",
       "</div>"
      ],
      "text/plain": [
       "   nameid                    name              book_date            city  \\\n",
       "0  699804  MALIK TYRONE MANDUJANO    4/1/2018 3:24:44 AM  DES MOINES, IA   \n",
       "1  238047       DUSTIN GLEN BLACK    8/5/2018 9:26:54 PM  DES MOINES, IA   \n",
       "2  680272  JAYDEN SIDNEY STRAIGHT  8/31/2018 12:12:14 AM  DES MOINES, IA   \n",
       "3  995244        MASON DAVIS VANG    9/6/2018 4:00:23 PM      ANKENY, IA   \n",
       "4  972517        DAMIR JIRE YOUNG   9/30/2018 7:31:03 PM      ANKENY, IA   \n",
       "\n",
       "  holding_location  age  height     weight   race   sex   eyes    hair  \\\n",
       "0              PCJ   21  1.6002   58.96696  Black  Male  Brown   Black   \n",
       "1              PCJ   29  1.8796  104.32616  White  Male   Blue  Blonde   \n",
       "2              PCJ   18  1.7272   56.69900  White  Male  Brown   Black   \n",
       "3              PCJ   23  1.7272   86.18248  Asian  Male  Brown   Black   \n",
       "4              PCJ   19  1.8542   72.57472  Black  Male  Brown   Black   \n",
       "\n",
       "   bookid  feet  inches        bmi  gender       index  \n",
       "0  270020   5.0     3.0  23.028211       1  270020.jpg  \n",
       "1  277774   6.0     2.0  29.529925       1  277774.jpg  \n",
       "2  279426   5.0     8.0  19.005974       1  279426.jpg  \n",
       "3  279799   5.0     8.0  28.889081       1  279799.jpg  \n",
       "4  281182   6.0     1.0  21.109221       1  281182.jpg  "
      ]
     },
     "execution_count": 18,
     "metadata": {},
     "output_type": "execute_result"
    }
   ],
   "source": [
    "dataset2.head()"
   ]
  },
  {
   "cell_type": "code",
   "execution_count": 19,
   "metadata": {},
   "outputs": [],
   "source": [
    "import matplotlib.pyplot as plt"
   ]
  },
  {
   "cell_type": "code",
   "execution_count": 20,
   "metadata": {},
   "outputs": [
    {
     "data": {
      "text/plain": [
       "Text(0, 0.5, 'Count')"
      ]
     },
     "execution_count": 20,
     "metadata": {},
     "output_type": "execute_result"
    },
    {
     "data": {
      "image/png": "[encoded data removed]",
      "text/plain": [
       "<Figure size 432x288 with 1 Axes>"
      ]
     },
     "metadata": {
      "needs_background": "light"
     },
     "output_type": "display_data"
    }
   ],
   "source": [
    "dataset2.age.hist(bins=20)\n",
    "plt.title('Age Distribution')\n",
    "plt.xlabel('Age')\n",
    "plt.ylabel('Count')"
   ]
  },
  {
   "cell_type": "code",
   "execution_count": 21,
   "metadata": {},
   "outputs": [
    {
     "data": {
      "text/plain": [
       "Text(0, 0.5, 'Count')"
      ]
     },
     "execution_count": 21,
     "metadata": {},
     "output_type": "execute_result"
    },
    {
     "data": {
      "image/png": "[encoded data removed]",
      "text/plain": [
       "<Figure size 432x288 with 1 Axes>"
      ]
     },
     "metadata": {
      "needs_background": "light"
     },
     "output_type": "display_data"
    }
   ],
   "source": [
    "dataset2.race.hist()\n",
    "plt.title('Race Distribution')\n",
    "plt.xlabel('Race')\n",
    "plt.ylabel('Count')"
   ]
  },
  {
   "cell_type": "code",
   "execution_count": 22,
   "metadata": {},
   "outputs": [
    {
     "data": {
      "text/plain": [
       "Text(0, 0.5, 'Count')"
      ]
     },
     "execution_count": 22,
     "metadata": {},
     "output_type": "execute_result"
    },
    {
     "data": {
      "image/png": "[encoded data removed]",
      "text/plain": [
       "<Figure size 432x288 with 1 Axes>"
      ]
     },
     "metadata": {
      "needs_background": "light"
     },
     "output_type": "display_data"
    }
   ],
   "source": [
    "dataset2.sex.hist()\n",
    "plt.title('Gender Distribution')\n",
    "plt.xlabel('Gender')\n",
    "plt.ylabel('Count')"
   ]
  },
  {
   "cell_type": "code",
   "execution_count": 31,
   "metadata": {},
   "outputs": [
    {
     "data": {
      "text/plain": [
       "Text(0, 0.5, 'Count')"
      ]
     },
     "execution_count": 31,
     "metadata": {},
     "output_type": "execute_result"
    },
    {
     "data": {
      "image/png": "[encoded data removed]",
      "text/plain": [
       "<Figure size 432x288 with 1 Axes>"
      ]
     },
     "metadata": {
      "needs_background": "light"
     },
     "output_type": "display_data"
    }
   ],
   "source": [
    "dataset2.height.hist(bins=15, align='left', color='b', edgecolor='red',\n",
    "              linewidth=1)\n",
    "plt.title('Height Distribution')\n",
    "plt.xlabel('Height')\n",
    "plt.ylabel('Count')\n",
    "\n"
   ]
  },
  {
   "cell_type": "code",
   "execution_count": 24,
   "metadata": {},
   "outputs": [
    {
     "data": {
      "text/plain": [
       "Text(0, 0.5, 'Count')"
      ]
     },
     "execution_count": 24,
     "metadata": {},
     "output_type": "execute_result"
    },
    {
     "data": {
      "image/png": "[encoded data removed]",
      "text/plain": [
       "<Figure size 432x288 with 1 Axes>"
      ]
     },
     "metadata": {
      "needs_background": "light"
     },
     "output_type": "display_data"
    }
   ],
   "source": [
    "dataset2.weight.hist()\n",
    "plt.title('Weight Distribution')\n",
    "plt.xlabel('Weight')\n",
    "plt.ylabel('Count')"
   ]
  },
  {
   "cell_type": "code",
   "execution_count": null,
   "metadata": {},
   "outputs": [],
   "source": []
  },
  {
   "cell_type": "code",
   "execution_count": null,
   "metadata": {},
   "outputs": [],
   "source": []
  }
 ],
 "metadata": {
  "kernelspec": {
   "display_name": "Python 3",
   "language": "python",
   "name": "python3"
  },
  "language_info": {
   "codemirror_mode": {
    "name": "ipython",
    "version": 3
   },
   "file_extension": ".py",
   "mimetype": "text/x-python",
   "name": "python",
   "nbconvert_exporter": "python",
   "pygments_lexer": "ipython3",
   "version": "3.8.8"
  }
 },
 "nbformat": 4,
 "nbformat_minor": 4
}
